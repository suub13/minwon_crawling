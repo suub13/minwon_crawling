{
 "cells": [
  {
   "cell_type": "code",
   "execution_count": 1,
   "metadata": {},
   "outputs": [
    {
     "name": "stdout",
     "output_type": "stream",
     "text": [
      "Requirement already satisfied: selenium in d:\\sandbox\\dev\\gov\\webcrawling\\venv\\lib\\site-packages (4.23.1)\n",
      "Requirement already satisfied: urllib3[socks]<3,>=1.26 in d:\\sandbox\\dev\\gov\\webcrawling\\venv\\lib\\site-packages (from selenium) (2.2.2)\n",
      "Requirement already satisfied: trio~=0.17 in d:\\sandbox\\dev\\gov\\webcrawling\\venv\\lib\\site-packages (from selenium) (0.26.2)\n",
      "Requirement already satisfied: trio-websocket~=0.9 in d:\\sandbox\\dev\\gov\\webcrawling\\venv\\lib\\site-packages (from selenium) (0.11.1)\n",
      "Requirement already satisfied: certifi>=2021.10.8 in d:\\sandbox\\dev\\gov\\webcrawling\\venv\\lib\\site-packages (from selenium) (2024.7.4)\n",
      "Requirement already satisfied: typing_extensions~=4.9 in d:\\sandbox\\dev\\gov\\webcrawling\\venv\\lib\\site-packages (from selenium) (4.12.2)\n",
      "Requirement already satisfied: websocket-client~=1.8 in d:\\sandbox\\dev\\gov\\webcrawling\\venv\\lib\\site-packages (from selenium) (1.8.0)\n",
      "Requirement already satisfied: attrs>=23.2.0 in d:\\sandbox\\dev\\gov\\webcrawling\\venv\\lib\\site-packages (from trio~=0.17->selenium) (24.2.0)\n",
      "Requirement already satisfied: sortedcontainers in d:\\sandbox\\dev\\gov\\webcrawling\\venv\\lib\\site-packages (from trio~=0.17->selenium) (2.4.0)\n",
      "Requirement already satisfied: idna in d:\\sandbox\\dev\\gov\\webcrawling\\venv\\lib\\site-packages (from trio~=0.17->selenium) (3.7)\n",
      "Requirement already satisfied: outcome in d:\\sandbox\\dev\\gov\\webcrawling\\venv\\lib\\site-packages (from trio~=0.17->selenium) (1.3.0.post0)\n",
      "Requirement already satisfied: sniffio>=1.3.0 in d:\\sandbox\\dev\\gov\\webcrawling\\venv\\lib\\site-packages (from trio~=0.17->selenium) (1.3.1)\n",
      "Requirement already satisfied: cffi>=1.14 in d:\\sandbox\\dev\\gov\\webcrawling\\venv\\lib\\site-packages (from trio~=0.17->selenium) (1.17.0)\n",
      "Requirement already satisfied: exceptiongroup in d:\\sandbox\\dev\\gov\\webcrawling\\venv\\lib\\site-packages (from trio~=0.17->selenium) (1.2.2)\n",
      "Requirement already satisfied: wsproto>=0.14 in d:\\sandbox\\dev\\gov\\webcrawling\\venv\\lib\\site-packages (from trio-websocket~=0.9->selenium) (1.2.0)\n",
      "Requirement already satisfied: pysocks!=1.5.7,<2.0,>=1.5.6 in d:\\sandbox\\dev\\gov\\webcrawling\\venv\\lib\\site-packages (from urllib3[socks]<3,>=1.26->selenium) (1.7.1)\n",
      "Requirement already satisfied: pycparser in d:\\sandbox\\dev\\gov\\webcrawling\\venv\\lib\\site-packages (from cffi>=1.14->trio~=0.17->selenium) (2.22)\n",
      "Requirement already satisfied: h11<1,>=0.9.0 in d:\\sandbox\\dev\\gov\\webcrawling\\venv\\lib\\site-packages (from wsproto>=0.14->trio-websocket~=0.9->selenium) (0.14.0)\n"
     ]
    },
    {
     "name": "stderr",
     "output_type": "stream",
     "text": [
      "\n",
      "[notice] A new release of pip is available: 23.2.1 -> 24.2\n",
      "[notice] To update, run: python.exe -m pip install --upgrade pip\n"
     ]
    }
   ],
   "source": [
    "!pip install selenium"
   ]
  },
  {
   "cell_type": "code",
   "execution_count": 30,
   "metadata": {},
   "outputs": [],
   "source": [
    "import time\n",
    "from selenium import webdriver\n",
    "from selenium.webdriver.common.by import By\n",
    "\n",
    "import pandas as pd"
   ]
  },
  {
   "cell_type": "markdown",
   "metadata": {},
   "source": [
    "페이지 별 링크 수집"
   ]
  },
  {
   "cell_type": "code",
   "execution_count": 44,
   "metadata": {},
   "outputs": [],
   "source": [
    "def collect_by_page(page):\n",
    "\n",
    "\n",
    "    driver = webdriver.Chrome()\n",
    "    driver.get(f'https://kin.naver.com/search/list.naver?query=%EC%A0%95%EB%B6%8024&section=qna&page={page}')\n",
    "\n",
    "    time.sleep(2)\n",
    "\n",
    "    # tbody 안의 모든 tr 요소 가져오기\n",
    "    fqa_table = driver.find_element(By.ID, 's_content')\n",
    "    fqa_table_body = fqa_table.find_element(By.CLASS_NAME, 'basic1')\n",
    "    fqa_links = fqa_table_body.find_elements(By.XPATH, './li/dl/dt/a')\n",
    "\n",
    "    # href 속성 값을 저장할 리스트 생성\n",
    "    href_list = []\n",
    "\n",
    "    # 모든 a 태그에서 href 속성 추출\n",
    "    for link in fqa_links:\n",
    "        href = link.get_attribute('href')\n",
    "        href_list.append(href)\n",
    "\n",
    "    # # 이제 각 href 링크로 접근\n",
    "    # for href in href_list:\n",
    "    #     print(\"들어와\")\n",
    "    #     print(href)\n",
    "    #     driver.get(href)\n",
    "\n",
    "    #     time.sleep(2)  # 페이지 로딩 대기\n",
    "\n",
    "    #     driver.back()\n",
    "    #     time.sleep(2)  # 이전 페이지로 돌아간 후 대기\n",
    "\n",
    "    driver.quit()\n",
    "    \n",
    "    return href_list\n"
   ]
  },
  {
   "cell_type": "code",
   "execution_count": 45,
   "metadata": {},
   "outputs": [],
   "source": [
    "total_links = []\n",
    "for i in range(30):\n",
    "    links = collect_by_page(i+1)\n",
    "    total_links += links\n",
    "    "
   ]
  },
  {
   "cell_type": "markdown",
   "metadata": {},
   "source": [
    "링크 csv파일로 저장"
   ]
  },
  {
   "cell_type": "code",
   "execution_count": 46,
   "metadata": {},
   "outputs": [],
   "source": [
    "df = pd.DataFrame(total_links, columns=['Link'])\n",
    "\n",
    "# CSV 파일로 저장\n",
    "df.to_csv('naver_minwon/links.csv', index=False)"
   ]
  },
  {
   "cell_type": "markdown",
   "metadata": {},
   "source": [
    "이제 각 href 링크로 접근하여 질문 및 답변 수집   \n",
    "{\"질문\": , \"답변\": []} 형식으로 수집"
   ]
  },
  {
   "cell_type": "code",
   "execution_count": 52,
   "metadata": {},
   "outputs": [],
   "source": [
    "driver = webdriver.Chrome()\n",
    "\n",
    "fna_list = []\n",
    "\n",
    "try:\n",
    "\n",
    "    for link in total_links:\n",
    "        driver.get(link)\n",
    "        time.sleep(2)  # 페이지 로딩 대기\n",
    "\n",
    "        full_content = driver.find_element(By.ID, 'content')\n",
    "\n",
    "        question = full_content.find_element(By.CSS_SELECTOR, '.contentArea._contentWrap')\n",
    "        question_title = question.find_element(By.CLASS_NAME, 'endTitleSection').text.replace('질문','').strip()\n",
    "        question_content = question.find_element(By.CLASS_NAME, 'questionDetail').text\n",
    "        print(question_title, question_content)\n",
    "\n",
    "        answer_list = []\n",
    "        try:\n",
    "            answers = full_content.find_elements(By.CSS_SELECTOR, '._contentBox.contentBox')\n",
    "            for answer in answers:\n",
    "                answer_content = answer.find_element(By.CSS_SELECTOR, '.answerDetail._endContents._endContentsText').text\n",
    "                answer_list.append(answer_content)\n",
    "            \n",
    "        except:\n",
    "            print(f\"{link}: answer없음\")\n",
    "\n",
    "        fna_list.append({'질문':question_title + \" \" + question_content, '답변':answer_list})\n",
    "\n",
    "        driver.back()\n",
    "        time.sleep(2)  # 이전 페이지로 돌아간 후 대기\n",
    "except:\n",
    "    print(question_title, question_content)\n",
    "    print(answer_list)\n",
    "    print(fna_list)"
   ]
  },
  {
   "cell_type": "markdown",
   "metadata": {},
   "source": [
    "민원 내용 .csv파일로 저장"
   ]
  },
  {
   "cell_type": "code",
   "execution_count": 51,
   "metadata": {},
   "outputs": [],
   "source": [
    "df = pd.DataFrame(fna_list)\n",
    "\n",
    "# CSV 파일로 저장\n",
    "df.to_csv('naver_minwon/qa_pairs.csv', index=False, encoding='utf-8-sig')"
   ]
  },
  {
   "cell_type": "code",
   "execution_count": null,
   "metadata": {},
   "outputs": [],
   "source": [
    "s"
   ]
  }
 ],
 "metadata": {
  "kernelspec": {
   "display_name": "venv",
   "language": "python",
   "name": "python3"
  },
  "language_info": {
   "codemirror_mode": {
    "name": "ipython",
    "version": 3
   },
   "file_extension": ".py",
   "mimetype": "text/x-python",
   "name": "python",
   "nbconvert_exporter": "python",
   "pygments_lexer": "ipython3",
   "version": "3.10.10"
  }
 },
 "nbformat": 4,
 "nbformat_minor": 2
}
